{
 "cells": [
  {
   "cell_type": "markdown",
   "id": "f42f55932ae771d2",
   "metadata": {},
   "source": [
    "### Init"
   ]
  },
  {
   "cell_type": "code",
   "execution_count": 6,
   "id": "initial_id",
   "metadata": {
    "ExecuteTime": {
     "end_time": "2024-07-09T10:27:06.173681Z",
     "start_time": "2024-07-09T10:27:06.158773Z"
    },
    "collapsed": true,
    "jupyter": {
     "outputs_hidden": true
    }
   },
   "outputs": [
    {
     "name": "stderr",
     "output_type": "stream",
     "text": [
      "2024-07-09 18:27:06,163 [root] INFO - start\n"
     ]
    }
   ],
   "source": [
    "import asyncio\n",
    "import logging\n",
    "\n",
    "from scripts.common.sim import LogUtil\n",
    "from scripts.sd.sc.sdwrap import SDWrap\n",
    "\n",
    "LogUtil.load('../config/log.yaml')\n",
    "logging.info('start')"
   ]
  },
  {
   "metadata": {},
   "cell_type": "code",
   "outputs": [],
   "execution_count": null,
   "source": "",
   "id": "bfb829a892d87d22"
  },
  {
   "cell_type": "markdown",
   "id": "c62b54a6b8b8d01b",
   "metadata": {},
   "source": [
    "SD txt2img"
   ]
  },
  {
   "cell_type": "code",
   "execution_count": null,
   "id": "b9fe9c000d7a8869",
   "metadata": {
    "ExecuteTime": {
     "start_time": "2024-07-09T10:35:42.948253Z"
    },
    "jupyter": {
     "is_executing": true
    }
   },
   "outputs": [
    {
     "name": "stderr",
     "output_type": "stream",
     "text": [
      "2024-07-09 18:35:44,048 [sd] INFO - current model: 00_XL\\0_animagineXLV31_v31.safetensors [e3c47aedb0]\n"
     ]
    },
    {
     "name": "stdout",
     "output_type": "stream",
     "text": [
      "here\n"
     ]
    }
   ],
   "source": [
    "\n",
    "@LogUtil.elapsed_async(opts={'name': 'sd_txt2img'})\n",
    "async def sd_txt2img(conf: str):    \n",
    "    wrap = SDWrap.generate(conf)\n",
    "    count = wrap.box.image_latent.batch_count\n",
    "    for i in range(count):\n",
    "        await wrap.txt2img()\n",
    "\n",
    "# loop = asyncio.get_event_loop()\n",
    "# asyncio.run_coroutine_threadsafe(sd_txt2img('../config/sd/sd.yaml'), loop)\n",
    "\n",
    "await sd_txt2img('../config/sd/preset/pony/belle.yaml')\n",
    "print('here here')\n",
    "\n",
    "\n"
   ]
  }
 ],
 "metadata": {
  "kernelspec": {
   "display_name": "Python 3 (ipykernel)",
   "language": "python",
   "name": "python3"
  },
  "language_info": {
   "codemirror_mode": {
    "name": "ipython",
    "version": 3
   },
   "file_extension": ".py",
   "mimetype": "text/x-python",
   "name": "python",
   "nbconvert_exporter": "python",
   "pygments_lexer": "ipython3",
   "version": "3.8.19"
  }
 },
 "nbformat": 4,
 "nbformat_minor": 5
}
