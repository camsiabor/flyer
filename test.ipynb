{
 "cells": [
  {
   "cell_type": "markdown",
   "id": "f42f55932ae771d2",
   "metadata": {},
   "source": [
    "### Init"
   ]
  },
  {
   "cell_type": "code",
   "id": "b9fe9c000d7a8869",
   "metadata": {
    "ExecuteTime": {
     "end_time": "2024-07-10T03:44:31.636248Z",
     "start_time": "2024-07-10T03:43:23.500072Z"
    }
   },
   "source": [
    "\n",
    "import logging\n",
    "import os\n",
    "\n",
    "from scripts.common.sim import LogUtil\n",
    "from scripts.sd.sc.sdwrap import SDWrap\n",
    "\n",
    "LogUtil.load('./config/log.yaml')\n",
    "logging.info(f'cwd {os.getcwd()}')\n",
    "\n",
    "@LogUtil.elapsed_async(opts={'name': 'sd_txt2img'})\n",
    "async def sd_txt2img(conf: str):    \n",
    "    wrap = SDWrap.generate(conf)\n",
    "    count = wrap.box.image_latent.batch_count\n",
    "    for i in range(count):\n",
    "        await wrap.txt2img()\n",
    "\n",
    "# loop = asyncio.get_event_loop()\n",
    "# asyncio.run_coroutine_threadsafe(sd_txt2img('../config/sd/sd.yaml'), loop)\n",
    "\n",
    "await sd_txt2img('./config/sd/preset/v/vr/shiori/pony.yaml')\n",
    "\n"
   ],
   "outputs": [
    {
     "name": "stderr",
     "output_type": "stream",
     "text": [
      "2024-07-10 11:43:23,721 [root] INFO - cwd D:\\work\\ai\\1_util\\flyer\n",
      "2024-07-10 11:43:23,761 [sd] INFO - current model: 00_XL\\0_waiANINSFWPONYXL_v50.safetensors [d2e24883be]\n",
      "2024-07-10 11:43:31,824 [sd] INFO - scripts_txt2img | 6.0% | eta: 45.7 | step 1 / 20 | job_count: 1 | \n",
      "2024-07-10 11:43:47,284 [sd] INFO - scripts_txt2img | 67.7% | eta: 8.6 | step 0 / 9 | job_count: 3 | \n",
      "2024-07-10 11:44:01,096 [sd] INFO - txt2img => D:/snapshot/virtua_real/shiori/image/20240710_3d/0/114353.png | seed: 53086507444463\n",
      "2024-07-10 11:44:01,097 [sd-perf] INFO - prompt:\n",
      "1girl, solo, \n",
      "(score_9, score_8_up, score_7_up, source_anime, rating_all),\n",
      ",\n",
      ",\n",
      "barefoot, (foot focus:0.9), from below, open mouth, finger to mouth,\n",
      ",   \n",
      ",\n",
      ",\n",
      ",    \n",
      "<lora:shiori-3d-pony-6-lokr-5-c16-1-r1-000008:0.9>, KanKanShiori,\n",
      ",\n",
      "blue eyes,\n",
      "brown hair,multicolored hair,\n",
      "(brown dress:0.9), (white shirt:0.9), (bell:0.9), \n",
      "skirt, frills, thigh strap, headwear, animal ears,\n",
      ",\n",
      "blush,\n",
      ",    \n",
      "fantasy, bedroom, epic, aesthetic, artistic,\n",
      "\n",
      "2024-07-10 11:44:01,098 [sd-perf] INFO - txt2img completed in 37.34 seconds\n",
      "2024-07-10 11:44:09,147 [sd] INFO - scripts_txt2img | 11.0% | eta: 24.4 | step 2 / 20 | job_count: 1 | \n",
      "2024-07-10 11:44:24,637 [sd] INFO - scripts_txt2img | 67.7% | eta: 8.6 | step 0 / 9 | job_count: 3 | \n",
      "2024-07-10 11:44:31,622 [sd] INFO - txt2img => D:/snapshot/virtua_real/shiori/image/20240710_3d/0/114431.png | seed: 11652723526935\n",
      "2024-07-10 11:44:31,622 [sd-perf] INFO - prompt:\n",
      "1girl, solo, \n",
      "(score_9, score_8_up, score_7_up, source_anime, rating_all),\n",
      ",\n",
      ",\n",
      "barefoot, (foot focus:0.9), from below, open mouth, finger to mouth,\n",
      ",   \n",
      ",\n",
      ",\n",
      ",    \n",
      "<lora:shiori-3d-pony-6-lokr-5-c16-1-r1-000008:0.9>, KanKanShiori,\n",
      ",\n",
      "blue eyes,\n",
      "brown hair,multicolored hair,\n",
      "(brown dress:0.9), (white shirt:0.9), (bell:0.9), \n",
      "skirt, frills, thigh strap, headwear, animal ears,\n",
      ",\n",
      "blush,\n",
      ",    \n",
      "fantasy, bedroom, epic, aesthetic, artistic,\n",
      "\n",
      "2024-07-10 11:44:31,623 [sd-perf] INFO - txt2img completed in 30.52 seconds\n",
      "2024-07-10 11:44:31,625 [sd_txt2img] INFO - sd_txt2img completed in 67.90 seconds\n"
     ]
    }
   ],
   "execution_count": 1
  }
 ],
 "metadata": {
  "kernelspec": {
   "display_name": "Python 3 (ipykernel)",
   "language": "python",
   "name": "python3"
  },
  "language_info": {
   "codemirror_mode": {
    "name": "ipython",
    "version": 3
   },
   "file_extension": ".py",
   "mimetype": "text/x-python",
   "name": "python",
   "nbconvert_exporter": "python",
   "pygments_lexer": "ipython3",
   "version": "3.8.19"
  }
 },
 "nbformat": 4,
 "nbformat_minor": 5
}
