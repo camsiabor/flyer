{
 "cells": [
  {
   "cell_type": "markdown",
   "id": "f42f55932ae771d2",
   "metadata": {},
   "source": [
    "### Init"
   ]
  },
  {
   "cell_type": "code",
   "id": "b9fe9c000d7a8869",
   "metadata": {
    "ExecuteTime": {
     "start_time": "2024-07-15T09:44:09.746110Z"
    }
   },
   "source": [
    "\n",
    "import logging\n",
    "import os\n",
    "\n",
    "from scripts.common.sim import LogUtil\n",
    "from scripts.sd.sc.sdwrap import SDWrap\n",
    "\n",
    "LogUtil.load('./config/log.yaml')\n",
    "logging.info(f'cwd {os.getcwd()}')\n",
    "\n",
    "@LogUtil.elapsed_async(opts={'name': 'sd_txt2img'})\n",
    "async def sd_txt2img(conf: str):    \n",
    "    wrap = SDWrap.generate(conf)\n",
    "    count = wrap.box.image_latent.batch_count\n",
    "    for i in range(count):\n",
    "        await wrap.txt2img()\n",
    "\n",
    "# loop = asyncio.get_event_loop()\n",
    "# asyncio.run_coroutine_threadsafe(sd_txt2img('../config/sd/sd.yaml'), loop)\n",
    "\n",
    "# preset = './config/sd/preset/v/vr/shiori/pony.yaml'\n",
    "preset = './config/sd/preset/zzz/belle2.yaml'\n",
    "\n",
    "await sd_txt2img(preset)\n",
    "\n"
   ],
   "outputs": [
    {
     "name": "stderr",
     "output_type": "stream",
     "text": [
      "2024-07-15 17:44:09,750 [root] INFO - cwd D:\\work\\ai\\1_util\\flyer\n",
      "Exception ignored in: <coroutine object SDWrap.progress_loop at 0x00000256D48FF940>\n",
      "Traceback (most recent call last):\n",
      "  File \"C:\\Users\\user\\.conda\\envs\\n_3_8_19\\lib\\site-packages\\yaml\\scanner.py\", line 286, in stale_possible_simple_keys\n",
      "    for level in list(self.possible_simple_keys):\n",
      "RuntimeError: coroutine ignored GeneratorExit\n"
     ]
    }
   ],
   "execution_count": null
  }
 ],
 "metadata": {
  "kernelspec": {
   "display_name": "Python 3 (ipykernel)",
   "language": "python",
   "name": "python3"
  },
  "language_info": {
   "codemirror_mode": {
    "name": "ipython",
    "version": 3
   },
   "file_extension": ".py",
   "mimetype": "text/x-python",
   "name": "python",
   "nbconvert_exporter": "python",
   "pygments_lexer": "ipython3",
   "version": "3.8.19"
  }
 },
 "nbformat": 4,
 "nbformat_minor": 5
}
