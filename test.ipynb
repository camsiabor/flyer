{
 "cells": [
  {
   "cell_type": "markdown",
   "id": "f42f55932ae771d2",
   "metadata": {},
   "source": [
    "### Init"
   ]
  },
  {
   "cell_type": "code",
   "id": "b9fe9c000d7a8869",
   "metadata": {
    "ExecuteTime": {
     "end_time": "2024-07-10T03:51:17.518627Z",
     "start_time": "2024-07-10T03:49:47.135678Z"
    }
   },
   "source": [
    "\n",
    "import logging\n",
    "import os\n",
    "\n",
    "from scripts.common.sim import LogUtil\n",
    "from scripts.sd.sc.sdwrap import SDWrap\n",
    "\n",
    "LogUtil.load('./config/log.yaml')\n",
    "logging.info(f'cwd {os.getcwd()}')\n",
    "\n",
    "@LogUtil.elapsed_async(opts={'name': 'sd_txt2img'})\n",
    "async def sd_txt2img(conf: str):    \n",
    "    wrap = SDWrap.generate(conf)\n",
    "    count = wrap.box.image_latent.batch_count\n",
    "    for i in range(count):\n",
    "        await wrap.txt2img()\n",
    "\n",
    "# loop = asyncio.get_event_loop()\n",
    "# asyncio.run_coroutine_threadsafe(sd_txt2img('../config/sd/sd.yaml'), loop)\n",
    "\n",
    "await sd_txt2img('./config/sd/preset/v/vr/shiori/pony.yaml')\n",
    "\n"
   ],
   "outputs": [
    {
     "name": "stderr",
     "output_type": "stream",
     "text": [
      "2024-07-10 11:49:47,361 [root] INFO - cwd D:\\work\\ai\\1_util\\flyer\n",
      "2024-07-10 11:49:47,415 [sd] INFO - current model: 00_XL\\0_tPonynai3_v55.safetensors [89e7c7518c]\n",
      "2024-07-10 11:49:55,442 [sd] INFO - scripts_txt2img | 6.0% | eta: 45.5 | step 1 / 20 | job_count: 1 | \n",
      "2024-07-10 11:50:10,880 [sd] INFO - scripts_txt2img | 67.7% | eta: 8.6 | step 0 / 9 | job_count: 3 | \n",
      "2024-07-10 11:50:17,562 [sd] INFO - txt2img => D:/snapshot/virtua_real/shiori/image/20240710_3d/0/115017.png | seed: 36578526921914\n",
      "2024-07-10 11:50:17,563 [sd-perf] INFO - prompt:\n",
      "1girl, solo, \n",
      "(score_9, score_8_up, score_7_up, source_anime, rating_all),\n",
      ",\n",
      ",\n",
      "pov, from above, paw pose, wariza, w_sitting,\n",
      ",   \n",
      ",\n",
      ",\n",
      ",    \n",
      "<lora:shiori-3d-pony-6-lokr-5-c16-1-r1-000008:0.9>, KanKanShiori,\n",
      ",\n",
      "blue eyes,\n",
      "brown hair,multicolored hair,\n",
      "(brown dress:0.9), (white shirt:0.9), (bell:0.9), \n",
      "skirt, frills, thigh strap, headwear, animal ears,\n",
      ",\n",
      "blush,\n",
      ",    \n",
      "fantasy, epic, aesthetic, artistic, european decora, light, dawn, light particles,\n",
      "\n",
      "2024-07-10 11:50:17,563 [sd-perf] INFO - txt2img completed in 30.15 seconds\n",
      "2024-07-10 11:50:25,908 [sd] INFO - scripts_txt2img | 16.0% | eta: 17.4 | step 3 / 20 | job_count: 1 | \n",
      "2024-07-10 11:50:41,252 [sd] INFO - scripts_txt2img | 67.7% | eta: 8.8 | step 0 / 9 | job_count: 3 | \n",
      "2024-07-10 11:50:46,416 [sd] INFO - txt2img => D:/snapshot/virtua_real/shiori/image/20240710_3d/0/115046.png | seed: 170773047153\n",
      "2024-07-10 11:50:46,418 [sd-perf] INFO - prompt:\n",
      "1girl, solo, \n",
      "(score_9, score_8_up, score_7_up, source_anime, rating_all),\n",
      ",\n",
      ",\n",
      "pov, from above, paw pose, wariza, w_sitting,\n",
      ",   \n",
      ",\n",
      ",\n",
      ",    \n",
      "<lora:shiori-3d-pony-6-lokr-5-c16-1-r1-000008:0.9>, KanKanShiori,\n",
      ",\n",
      "blue eyes,\n",
      "brown hair,multicolored hair,\n",
      "(brown dress:0.9), (white shirt:0.9), (bell:0.9), \n",
      "skirt, frills, thigh strap, headwear, animal ears,\n",
      ",\n",
      "blush,\n",
      ",    \n",
      "fantasy, epic, aesthetic, artistic, european decora, light, dawn, light particles,\n",
      "\n",
      "2024-07-10 11:50:46,419 [sd-perf] INFO - txt2img completed in 28.85 seconds\n",
      "2024-07-10 11:50:56,277 [sd] INFO - scripts_txt2img | 31.0% | eta: 10.8 | step 6 / 20 | job_count: 1 | \n",
      "2024-07-10 11:51:11,675 [sd] INFO - scripts_txt2img | 67.7% | eta: 9.5 | step 0 / 9 | job_count: 3 | \n",
      "2024-07-10 11:51:17,506 [sd] INFO - txt2img => D:/snapshot/virtua_real/shiori/image/20240710_3d/0/115117.png | seed: 33355108988692\n",
      "2024-07-10 11:51:17,507 [sd-perf] INFO - prompt:\n",
      "1girl, solo, \n",
      "(score_9, score_8_up, score_7_up, source_anime, rating_all),\n",
      ",\n",
      ",\n",
      "pov, from above, paw pose, wariza, w_sitting,\n",
      ",   \n",
      ",\n",
      ",\n",
      ",    \n",
      "<lora:shiori-3d-pony-6-lokr-5-c16-1-r1-000008:0.9>, KanKanShiori,\n",
      ",\n",
      "blue eyes,\n",
      "brown hair,multicolored hair,\n",
      "(brown dress:0.9), (white shirt:0.9), (bell:0.9), \n",
      "skirt, frills, thigh strap, headwear, animal ears,\n",
      ",\n",
      "blush,\n",
      ",    \n",
      "fantasy, epic, aesthetic, artistic, european decora, light, dawn, light particles,\n",
      "\n",
      "2024-07-10 11:51:17,507 [sd-perf] INFO - txt2img completed in 31.09 seconds\n",
      "2024-07-10 11:51:17,507 [sd_txt2img] INFO - sd_txt2img completed in 90.15 seconds\n"
     ]
    }
   ],
   "execution_count": 1
  }
 ],
 "metadata": {
  "kernelspec": {
   "display_name": "Python 3 (ipykernel)",
   "language": "python",
   "name": "python3"
  },
  "language_info": {
   "codemirror_mode": {
    "name": "ipython",
    "version": 3
   },
   "file_extension": ".py",
   "mimetype": "text/x-python",
   "name": "python",
   "nbconvert_exporter": "python",
   "pygments_lexer": "ipython3",
   "version": "3.8.19"
  }
 },
 "nbformat": 4,
 "nbformat_minor": 5
}
