{
 "cells": [
  {
   "cell_type": "markdown",
   "id": "f42f55932ae771d2",
   "metadata": {},
   "source": [
    "### Init"
   ]
  },
  {
   "cell_type": "code",
   "id": "initial_id",
   "metadata": {
    "collapsed": true,
    "jupyter": {
     "outputs_hidden": true
    },
    "ExecuteTime": {
     "end_time": "2024-07-09T10:47:34.799381Z",
     "start_time": "2024-07-09T10:47:34.774289Z"
    }
   },
   "source": [
    "\n",
    "import logging\n",
    "\n",
    "from scripts.common.sim import LogUtil\n",
    "from scripts.sd.sc.sdwrap import SDWrap\n",
    "\n",
    "LogUtil.load('./config/log.yaml')\n",
    "logging.info('start')"
   ],
   "outputs": [
    {
     "name": "stderr",
     "output_type": "stream",
     "text": [
      "2024-07-09 18:47:34,789 [root] INFO - start\n"
     ]
    }
   ],
   "execution_count": 3
  },
  {
   "cell_type": "markdown",
   "id": "c62b54a6b8b8d01b",
   "metadata": {},
   "source": [
    "SD txt2img"
   ]
  },
  {
   "cell_type": "code",
   "id": "b9fe9c000d7a8869",
   "metadata": {
    "ExecuteTime": {
     "end_time": "2024-07-09T10:48:47.250578Z",
     "start_time": "2024-07-09T10:48:13.653165Z"
    }
   },
   "source": [
    "\n",
    "@LogUtil.elapsed_async(opts={'name': 'sd_txt2img'})\n",
    "async def sd_txt2img(conf: str):    \n",
    "    wrap = SDWrap.generate(conf)\n",
    "    count = wrap.box.image_latent.batch_count\n",
    "    for i in range(count):\n",
    "        await wrap.txt2img()\n",
    "\n",
    "# loop = asyncio.get_event_loop()\n",
    "# asyncio.run_coroutine_threadsafe(sd_txt2img('../config/sd/sd.yaml'), loop)\n",
    "\n",
    "await sd_txt2img('./config/sd/preset/pony/belle.yaml')\n",
    "print('here here')\n",
    "\n",
    "\n"
   ],
   "outputs": [
    {
     "name": "stderr",
     "output_type": "stream",
     "text": [
      "2024-07-09 18:48:13,724 [sd] INFO - current model: 00_XL\\0_animagineXLV31_v31.safetensors [e3c47aedb0]\n",
      "2024-07-09 18:48:21,760 [sd] INFO - scripts_txt2img | 1.0% | eta: 289.3 | step 0 / 9 | job_count: 1 | \n",
      "2024-07-09 18:48:47,115 [sd] INFO - txt2img => /20240709184846.png | seed: 28840965683921\n",
      "2024-07-09 18:48:47,116 [sd-perf] INFO - txt2img completed in 33.39 seconds\n"
     ]
    },
    {
     "ename": "CancelledError",
     "evalue": "",
     "output_type": "error",
     "traceback": [
      "\u001B[1;31m---------------------------------------------------------------------------\u001B[0m",
      "\u001B[1;31mCancelledError\u001B[0m                            Traceback (most recent call last)",
      "Cell \u001B[1;32mIn[6], line 12\u001B[0m\n\u001B[0;32m      7\u001B[0m         \u001B[38;5;28;01mawait\u001B[39;00m wrap\u001B[38;5;241m.\u001B[39mtxt2img()\n\u001B[0;32m      9\u001B[0m \u001B[38;5;66;03m# loop = asyncio.get_event_loop()\u001B[39;00m\n\u001B[0;32m     10\u001B[0m \u001B[38;5;66;03m# asyncio.run_coroutine_threadsafe(sd_txt2img('../config/sd/sd.yaml'), loop)\u001B[39;00m\n\u001B[1;32m---> 12\u001B[0m \u001B[38;5;28;01mawait\u001B[39;00m sd_txt2img(\u001B[38;5;124m'\u001B[39m\u001B[38;5;124m./config/sd/preset/pony/belle.yaml\u001B[39m\u001B[38;5;124m'\u001B[39m)\n\u001B[0;32m     13\u001B[0m \u001B[38;5;28mprint\u001B[39m(\u001B[38;5;124m'\u001B[39m\u001B[38;5;124mhere here\u001B[39m\u001B[38;5;124m'\u001B[39m)\n",
      "File \u001B[1;32mD:\\work\\ai\\1_util\\flyer\\scripts\\common\\sim.py:302\u001B[0m, in \u001B[0;36mLogUtil.elapsed_async.<locals>.decorator.<locals>.wrapper\u001B[1;34m(*args, **kwargs)\u001B[0m\n\u001B[0;32m    299\u001B[0m \u001B[38;5;129m@functools\u001B[39m\u001B[38;5;241m.\u001B[39mwraps(func)\n\u001B[0;32m    300\u001B[0m \u001B[38;5;28;01masync\u001B[39;00m \u001B[38;5;28;01mdef\u001B[39;00m \u001B[38;5;21mwrapper\u001B[39m(\u001B[38;5;241m*\u001B[39margs, \u001B[38;5;241m*\u001B[39m\u001B[38;5;241m*\u001B[39mkwargs):\n\u001B[0;32m    301\u001B[0m     start_time \u001B[38;5;241m=\u001B[39m time\u001B[38;5;241m.\u001B[39mperf_counter()\n\u001B[1;32m--> 302\u001B[0m     result \u001B[38;5;241m=\u001B[39m \u001B[38;5;28;01mawait\u001B[39;00m func(\u001B[38;5;241m*\u001B[39margs, \u001B[38;5;241m*\u001B[39m\u001B[38;5;241m*\u001B[39mkwargs)  \u001B[38;5;66;03m# Await the function execution\u001B[39;00m\n\u001B[0;32m    303\u001B[0m     end_time \u001B[38;5;241m=\u001B[39m time\u001B[38;5;241m.\u001B[39mperf_counter()\n\u001B[0;32m    304\u001B[0m     elapsed_time \u001B[38;5;241m=\u001B[39m end_time \u001B[38;5;241m-\u001B[39m start_time\n",
      "Cell \u001B[1;32mIn[6], line 7\u001B[0m, in \u001B[0;36msd_txt2img\u001B[1;34m(conf)\u001B[0m\n\u001B[0;32m      5\u001B[0m count \u001B[38;5;241m=\u001B[39m wrap\u001B[38;5;241m.\u001B[39mbox\u001B[38;5;241m.\u001B[39mimage_latent\u001B[38;5;241m.\u001B[39mbatch_count\n\u001B[0;32m      6\u001B[0m \u001B[38;5;28;01mfor\u001B[39;00m i \u001B[38;5;129;01min\u001B[39;00m \u001B[38;5;28mrange\u001B[39m(count):\n\u001B[1;32m----> 7\u001B[0m     \u001B[38;5;28;01mawait\u001B[39;00m wrap\u001B[38;5;241m.\u001B[39mtxt2img()\n",
      "File \u001B[1;32mD:\\work\\ai\\1_util\\flyer\\scripts\\sd\\sc\\sdwrap.py:24\u001B[0m, in \u001B[0;36msdwrap_aspect.<locals>.decorator.<locals>.wrapper\u001B[1;34m(*args, **kwargs)\u001B[0m\n\u001B[0;32m     22\u001B[0m \u001B[38;5;28;01mtry\u001B[39;00m:\n\u001B[0;32m     23\u001B[0m     \u001B[38;5;28;01mif\u001B[39;00m colddown \u001B[38;5;241m>\u001B[39m \u001B[38;5;241m0\u001B[39m:\n\u001B[1;32m---> 24\u001B[0m         \u001B[38;5;28;01mawait\u001B[39;00m asyncio\u001B[38;5;241m.\u001B[39msleep(colddown)\n\u001B[0;32m     25\u001B[0m     \u001B[38;5;28;01mawait\u001B[39;00m wrap\u001B[38;5;241m.\u001B[39mwork_count\u001B[38;5;241m.\u001B[39mincrement()\n\u001B[0;32m     26\u001B[0m     result \u001B[38;5;241m=\u001B[39m \u001B[38;5;28;01mawait\u001B[39;00m func(\u001B[38;5;241m*\u001B[39margs, \u001B[38;5;241m*\u001B[39m\u001B[38;5;241m*\u001B[39mkwargs)  \u001B[38;5;66;03m# Await the function execution\u001B[39;00m\n",
      "File \u001B[1;32m~\\.conda\\envs\\n_3_8_19\\lib\\asyncio\\tasks.py:659\u001B[0m, in \u001B[0;36msleep\u001B[1;34m(delay, result, loop)\u001B[0m\n\u001B[0;32m    655\u001B[0m h \u001B[38;5;241m=\u001B[39m loop\u001B[38;5;241m.\u001B[39mcall_later(delay,\n\u001B[0;32m    656\u001B[0m                     futures\u001B[38;5;241m.\u001B[39m_set_result_unless_cancelled,\n\u001B[0;32m    657\u001B[0m                     future, result)\n\u001B[0;32m    658\u001B[0m \u001B[38;5;28;01mtry\u001B[39;00m:\n\u001B[1;32m--> 659\u001B[0m     \u001B[38;5;28;01mreturn\u001B[39;00m \u001B[38;5;28;01mawait\u001B[39;00m future\n\u001B[0;32m    660\u001B[0m \u001B[38;5;28;01mfinally\u001B[39;00m:\n\u001B[0;32m    661\u001B[0m     h\u001B[38;5;241m.\u001B[39mcancel()\n",
      "\u001B[1;31mCancelledError\u001B[0m: "
     ]
    }
   ],
   "execution_count": 6
  }
 ],
 "metadata": {
  "kernelspec": {
   "display_name": "Python 3 (ipykernel)",
   "language": "python",
   "name": "python3"
  },
  "language_info": {
   "codemirror_mode": {
    "name": "ipython",
    "version": 3
   },
   "file_extension": ".py",
   "mimetype": "text/x-python",
   "name": "python",
   "nbconvert_exporter": "python",
   "pygments_lexer": "ipython3",
   "version": "3.8.19"
  }
 },
 "nbformat": 4,
 "nbformat_minor": 5
}
