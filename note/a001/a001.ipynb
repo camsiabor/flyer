{
 "cells": [
  {
   "cell_type": "code",
   "id": "initial_id",
   "metadata": {
    "collapsed": true,
    "ExecuteTime": {
     "end_time": "2024-05-28T12:02:20.928839Z",
     "start_time": "2024-05-28T12:02:20.310413Z"
    }
   },
   "source": [
    "import pandas as pd\n",
    "import matplotlib.pyplot as plt\n",
    "%matplotlib inline\n"
   ],
   "outputs": [],
   "execution_count": 1
  },
  {
   "metadata": {},
   "cell_type": "code",
   "outputs": [],
   "execution_count": null,
   "source": "print('hello')\n",
   "id": "59b829589a95c916"
  },
  {
   "metadata": {},
   "cell_type": "markdown",
   "source": "",
   "id": "179b1b8b0d15f216"
  },
  {
   "metadata": {},
   "cell_type": "markdown",
   "source": [
    "Hello World And Test\n",
    "$ E=mc^2 $\n"
   ],
   "id": "220ba18b30683933"
  },
  {
   "metadata": {},
   "cell_type": "markdown",
   "source": [
    "\n",
    "这是一元二次方程求解公式\n",
    "$$x = \\frac{-b\\pm \\sqrt{b^2-4ac}}{2a}$$\n",
    "初中数学内容\n",
    "\n"
   ],
   "id": "8d83c3a4eb9616ae"
  },
  {
   "metadata": {},
   "cell_type": "markdown",
   "source": "",
   "id": "dffa1de1f32d16c6"
  }
 ],
 "metadata": {
  "kernelspec": {
   "display_name": "Python 3",
   "language": "python",
   "name": "python3"
  },
  "language_info": {
   "codemirror_mode": {
    "name": "ipython",
    "version": 2
   },
   "file_extension": ".py",
   "mimetype": "text/x-python",
   "name": "python",
   "nbconvert_exporter": "python",
   "pygments_lexer": "ipython2",
   "version": "2.7.6"
  }
 },
 "nbformat": 4,
 "nbformat_minor": 5
}
