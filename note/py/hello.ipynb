{
 "cells": [
  {
   "cell_type": "code",
   "id": "initial_id",
   "metadata": {
    "collapsed": true,
    "ExecuteTime": {
     "end_time": "2024-06-19T02:17:36.745361Z",
     "start_time": "2024-06-19T02:17:36.735361Z"
    }
   },
   "source": [
    "\n",
    "import pathlib\n",
    "\n",
    "path_csv = 'D:/work/ai/1_util/dev/vgsales.csv/vgsales.csv'\n",
    "\n",
    "path_cwd = pathlib.Path('.')\n",
    "print(path_cwd.resolve())\n",
    "files = path_cwd.glob('*.*')\n",
    "for file in files:\n",
    "    print(file)\n",
    "\n"
   ],
   "outputs": [
    {
     "name": "stdout",
     "output_type": "stream",
     "text": [
      "D:\\work\\ai\\1_util\\flyer\\note\\py\n",
      "hello.ipynb\n"
     ]
    }
   ],
   "execution_count": 4
  }
 ],
 "metadata": {
  "kernelspec": {
   "display_name": "Python 3",
   "language": "python",
   "name": "python3"
  },
  "language_info": {
   "codemirror_mode": {
    "name": "ipython",
    "version": 2
   },
   "file_extension": ".py",
   "mimetype": "text/x-python",
   "name": "python",
   "nbconvert_exporter": "python",
   "pygments_lexer": "ipython2",
   "version": "2.7.6"
  }
 },
 "nbformat": 4,
 "nbformat_minor": 5
}
